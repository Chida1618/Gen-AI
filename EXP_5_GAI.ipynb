{
  "cells": [
    {
      "cell_type": "markdown",
      "metadata": {
        "id": "view-in-github",
        "colab_type": "text"
      },
      "source": [
        "<a href=\"https://colab.research.google.com/github/Chida1618/Gen-AI/blob/main/EXP_5_GAI.ipynb\" target=\"_parent\"><img src=\"https://colab.research.google.com/assets/colab-badge.svg\" alt=\"Open In Colab\"/></a>"
      ]
    },
    {
      "cell_type": "markdown",
      "source": [
        "Human Face Generation"
      ],
      "metadata": {
        "id": "RC_9VPoAphGZ"
      }
    },
    {
      "cell_type": "markdown",
      "source": [
        "Installation of Libraries"
      ],
      "metadata": {
        "id": "vBCgDRPWqcGe"
      }
    },
    {
      "cell_type": "code",
      "source": [
        "!pip install -q diffusers transformers accelerate safetensors torch --upgrade"
      ],
      "metadata": {
        "id": "12iPLFu0pCPL"
      },
      "execution_count": null,
      "outputs": []
    },
    {
      "cell_type": "code",
      "source": [
        "pip install ftfy"
      ],
      "metadata": {
        "id": "ZkiEZBdfp3P5"
      },
      "execution_count": null,
      "outputs": []
    },
    {
      "cell_type": "markdown",
      "source": [
        "Importing Libraries"
      ],
      "metadata": {
        "id": "CjHButrBqehI"
      }
    },
    {
      "cell_type": "code",
      "source": [
        "import torch\n",
        "from diffusers import StableDiffusionPipeline\n",
        "from PIL import Image\n",
        "import matplotlib.pyplot as plt\n"
      ],
      "metadata": {
        "id": "e0D4WbxPqeJB"
      },
      "execution_count": null,
      "outputs": []
    },
    {
      "cell_type": "markdown",
      "source": [
        "Using the official Hugging Face model (you can choose another one if needed)"
      ],
      "metadata": {
        "id": "EpBYQvT7vmgZ"
      }
    },
    {
      "cell_type": "code",
      "source": [
        "model_id = \"runwayml/stable-diffusion-v1-5\"\n",
        "\n",
        "pipe = StableDiffusionPipeline.from_pretrained(\n",
        "    model_id,\n",
        "    torch_dtype=torch.float16\n",
        ").to(\"cuda\")  # Use GPU\n",
        "\n"
      ],
      "metadata": {
        "id": "M6p3MkJsp5nl"
      },
      "execution_count": null,
      "outputs": []
    },
    {
      "cell_type": "markdown",
      "metadata": {
        "id": "dac05ad8"
      },
      "source": [
        "Define the model ID. We'll use a common Stable Diffusion model from Hugging Face."
      ]
    },
    {
      "cell_type": "code",
      "source": [
        "prompt = \"A realistic portrait of a smiling young Men with natural lighting, ultra-detailed, 4k\"\n",
        "\n"
      ],
      "metadata": {
        "id": "3xXUMjHgv2ws"
      },
      "execution_count": null,
      "outputs": []
    },
    {
      "cell_type": "markdown",
      "source": [
        "Image generation"
      ],
      "metadata": {
        "id": "0lzHrXduxE4f"
      }
    },
    {
      "cell_type": "code",
      "source": [
        "image = pipe(prompt).images[0]\n"
      ],
      "metadata": {
        "id": "aT2KJ2ALv9yX"
      },
      "execution_count": null,
      "outputs": []
    },
    {
      "cell_type": "markdown",
      "source": [
        "output of image"
      ],
      "metadata": {
        "id": "8k3vTpkkxIaL"
      }
    },
    {
      "cell_type": "code",
      "source": [
        "plt.imshow(image)\n",
        "plt.axis(\"off\")\n",
        "plt.show()\n"
      ],
      "metadata": {
        "id": "w4YzPCbGwzdT"
      },
      "execution_count": null,
      "outputs": []
    },
    {
      "cell_type": "markdown",
      "source": [
        "save image"
      ],
      "metadata": {
        "id": "UxZLXabrxGwQ"
      }
    },
    {
      "cell_type": "code",
      "source": [
        "image.save(\"generated_face.png\")"
      ],
      "metadata": {
        "id": "F4xMkBraw0N3"
      },
      "execution_count": null,
      "outputs": []
    }
  ],
  "metadata": {
    "colab": {
      "toc_visible": true,
      "provenance": [],
      "gpuType": "T4",
      "include_colab_link": true
    },
    "kernelspec": {
      "display_name": "Python 3",
      "name": "python3"
    },
    "accelerator": "GPU"
  },
  "nbformat": 4,
  "nbformat_minor": 0
}